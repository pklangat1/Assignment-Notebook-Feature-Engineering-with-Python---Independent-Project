{
  "nbformat": 4,
  "nbformat_minor": 0,
  "metadata": {
    "colab": {
      "provenance": [],
      "toc_visible": true
    },
    "kernelspec": {
      "name": "python3",
      "display_name": "Python 3"
    },
    "language_info": {
      "name": "python"
    }
  },
  "cells": [
    {
      "cell_type": "markdown",
      "metadata": {
        "id": "HOZH42uVjWHj"
      },
      "source": [
        "# Assignment Notebook:  Feature Engineering with Python - Independent Project"
      ]
    },
    {
      "cell_type": "markdown",
      "metadata": {
        "id": "0UreGZV2jXff"
      },
      "source": [
        "## Question 1"
      ]
    },
    {
      "cell_type": "markdown",
      "metadata": {
        "id": "-tNZBlB8jamk"
      },
      "source": [
        "\n",
        "```\n"
      ]
    },
    {
      "cell_type": "code",
      "metadata": {
        "id": "tgiJtolrjTLH",
        "colab": {
          "base_uri": "https://localhost:8080/"
        },
        "outputId": "787dd540-a15e-4b28-fc6e-669dc970a617"
      },
      "source": [
        "# Check the data shape\n",
        "# ---\n",
        "# \n",
        "import pandas as pd\n",
        "\n",
        "data = pd.read_csv('https://bit.ly/3deaKEM')\n",
        "\n",
        "print(data.shape)\n"
      ],
      "execution_count": 3,
      "outputs": [
        {
          "output_type": "stream",
          "name": "stdout",
          "text": [
            "(21201, 29)\n"
          ]
        }
      ]
    },
    {
      "cell_type": "code",
      "source": [
        "#Check the first five data sample\n",
        "import pandas as pd\n",
        "\n",
        "data = pd.read_csv('https://bit.ly/3deaKEM')\n",
        "\n",
        "\n",
        "print(data.head())"
      ],
      "metadata": {
        "id": "Q_1Hpm_sY7c8",
        "colab": {
          "base_uri": "https://localhost:8080/"
        },
        "outputId": "8fb31d6e-5533-4f21-8ff7-a63b39e28bf4"
      },
      "execution_count": 4,
      "outputs": [
        {
          "output_type": "stream",
          "name": "stdout",
          "text": [
            "         Order No       User Id Vehicle Type  Platform Type  \\\n",
            "0   Order_No_4211   User_Id_633         Bike              3   \n",
            "1  Order_No_25375  User_Id_2285         Bike              3   \n",
            "2   Order_No_1899   User_Id_265         Bike              3   \n",
            "3   Order_No_9336  User_Id_1402         Bike              3   \n",
            "4  Order_No_27883  User_Id_1737         Bike              1   \n",
            "\n",
            "  Personal or Business  Placement - Day of Month  \\\n",
            "0             Business                         9   \n",
            "1             Personal                        12   \n",
            "2             Business                        30   \n",
            "3             Business                        15   \n",
            "4             Personal                        13   \n",
            "\n",
            "   Placement - Weekday (Mo = 1) Placement - Time  Confirmation - Day of Month  \\\n",
            "0                             5       9:35:46 AM                            9   \n",
            "1                             5      11:16:16 AM                           12   \n",
            "2                             2      12:39:25 PM                           30   \n",
            "3                             5       9:25:34 AM                           15   \n",
            "4                             1       9:55:18 AM                           13   \n",
            "\n",
            "   Confirmation - Weekday (Mo = 1)  ... Arrival at Destination - Time  \\\n",
            "0                                5  ...                   10:39:55 AM   \n",
            "1                                5  ...                   12:17:22 PM   \n",
            "2                                2  ...                    1:00:38 PM   \n",
            "3                                5  ...                   10:05:27 AM   \n",
            "4                                1  ...                   10:25:37 AM   \n",
            "\n",
            "   Distance (KM)  Temperature Precipitation in millimeters  Pickup Lat  \\\n",
            "0              4         20.4                          NaN   -1.317755   \n",
            "1             16         26.4                          NaN   -1.351453   \n",
            "2              3          NaN                          NaN   -1.308284   \n",
            "3              9         19.2                          NaN   -1.281301   \n",
            "4              9         15.4                          NaN   -1.266597   \n",
            "\n",
            "   Pickup Long Destination Lat  Destination Long      Rider Id  \\\n",
            "0    36.830370       -1.300406         36.829741  Rider_Id_432   \n",
            "1    36.899315       -1.295004         36.814358  Rider_Id_856   \n",
            "2    36.843419       -1.300921         36.828195  Rider_Id_155   \n",
            "3    36.832396       -1.257147         36.795063  Rider_Id_855   \n",
            "4    36.792118       -1.295041         36.809817  Rider_Id_770   \n",
            "\n",
            "  Time from Pickup to Arrival  \n",
            "0                         745  \n",
            "1                        1993  \n",
            "2                         455  \n",
            "3                        1341  \n",
            "4                        1214  \n",
            "\n",
            "[5 rows x 29 columns]\n"
          ]
        }
      ]
    },
    {
      "cell_type": "code",
      "source": [
        "#Check data types\n",
        "data.dtypes"
      ],
      "metadata": {
        "colab": {
          "base_uri": "https://localhost:8080/"
        },
        "id": "9DaHDTxt2ODt",
        "outputId": "00913e96-ca50-446a-c9c0-9e112e11d734"
      },
      "execution_count": null,
      "outputs": [
        {
          "output_type": "execute_result",
          "data": {
            "text/plain": [
              "Order No                                      object\n",
              "User Id                                       object\n",
              "Vehicle Type                                  object\n",
              "Platform Type                                  int64\n",
              "Personal or Business                          object\n",
              "Placement - Day of Month                       int64\n",
              "Placement - Weekday (Mo = 1)                   int64\n",
              "Placement - Time                              object\n",
              "Confirmation - Day of Month                    int64\n",
              "Confirmation - Weekday (Mo = 1)                int64\n",
              "Confirmation - Time                           object\n",
              "Arrival at Pickup - Day of Month               int64\n",
              "Arrival at Pickup - Weekday (Mo = 1)           int64\n",
              "Arrival at Pickup - Time                      object\n",
              "Pickup - Day of Month                          int64\n",
              "Pickup - Weekday (Mo = 1)                      int64\n",
              "Pickup - Time                                 object\n",
              "Arrival at Destination - Day of Month          int64\n",
              "Arrival at Destination - Weekday (Mo = 1)      int64\n",
              "Arrival at Destination - Time                 object\n",
              "Distance (KM)                                  int64\n",
              "Temperature                                  float64\n",
              "Precipitation in millimeters                 float64\n",
              "Pickup Lat                                   float64\n",
              "Pickup Long                                  float64\n",
              "Destination Lat                              float64\n",
              "Destination Long                             float64\n",
              "Rider Id                                      object\n",
              "Time from Pickup to Arrival                    int64\n",
              "dtype: object"
            ]
          },
          "metadata": {},
          "execution_count": 27
        }
      ]
    },
    {
      "cell_type": "code",
      "source": [
        "data.isnull().sum()"
      ],
      "metadata": {
        "colab": {
          "base_uri": "https://localhost:8080/"
        },
        "id": "hdevJhMI_Dpg",
        "outputId": "791e96ae-791f-4c4e-8e13-2740192b0863"
      },
      "execution_count": null,
      "outputs": [
        {
          "output_type": "execute_result",
          "data": {
            "text/plain": [
              "Order No                                         0\n",
              "User Id                                          0\n",
              "Vehicle Type                                     0\n",
              "Platform Type                                    0\n",
              "Personal or Business                             0\n",
              "Placement - Day of Month                         0\n",
              "Placement - Weekday (Mo = 1)                     0\n",
              "Placement - Time                                 0\n",
              "Confirmation - Day of Month                      0\n",
              "Confirmation - Weekday (Mo = 1)                  0\n",
              "Confirmation - Time                              0\n",
              "Arrival at Pickup - Day of Month                 0\n",
              "Arrival at Pickup - Weekday (Mo = 1)             0\n",
              "Arrival at Pickup - Time                         0\n",
              "Pickup - Day of Month                            0\n",
              "Pickup - Weekday (Mo = 1)                        0\n",
              "Pickup - Time                                    0\n",
              "Arrival at Destination - Day of Month            0\n",
              "Arrival at Destination - Weekday (Mo = 1)        0\n",
              "Arrival at Destination - Time                    0\n",
              "Distance (KM)                                    0\n",
              "Temperature                                   4366\n",
              "Precipitation in millimeters                 20649\n",
              "Pickup Lat                                       0\n",
              "Pickup Long                                      0\n",
              "Destination Lat                                  0\n",
              "Destination Long                                 0\n",
              "Rider Id                                         0\n",
              "Time from Pickup to Arrival                      0\n",
              "dtype: int64"
            ]
          },
          "metadata": {},
          "execution_count": 28
        }
      ]
    },
    {
      "cell_type": "code",
      "source": [
        "\n"
      ],
      "metadata": {
        "id": "CNuBtUYM_ZhP"
      },
      "execution_count": null,
      "outputs": []
    },
    {
      "cell_type": "code",
      "source": [
        "import pandas as pd\n",
        "from sklearn.model_selection import train_test_split\n",
        "from sklearn.preprocessing import StandardScaler\n",
        "\n",
        "\n",
        "# < modify data to avoid dummy traps >\n",
        "#drop NA values\n",
        "data.dropna(inplace=True)\n",
        "data_ohe=pd.get_dummies(data)\n",
        "target = data_ohe['Time from Pickup to Arrival']\n",
        "features = data_ohe.drop(['Time from Pickup to Arrival'], axis=1)\n",
        "\n",
        "features_train, features_valid, target_train, target_valid = train_test_split(\n",
        "    features, target, test_size=0.25, random_state=12345\n",
        ")\n",
        "\n",
        "numeric=['Platform Type','Placement - Day of Month','Placement - Weekday (Mo = 1)',\n",
        "'Confirmation - Day of Month','Confirmation - Weekday (Mo = 1)','Arrival at Pickup - Day of Month',\n",
        "'Arrival at Pickup - Weekday (Mo = 1)','Pickup - Day of Month','Pickup - Weekday (Mo = 1)',\n",
        "'Arrival at Destination - Day of Month','Arrival at Destination - Weekday (Mo = 1)',\n",
        "'Distance (KM)','Temperature',\n",
        "'Precipitation in millimeters','Pickup Lat','Pickup Long','Destination Lat',\n",
        "'Destination Long' ]\n",
        "\n",
        "scaler = StandardScaler()\n",
        "scaler.fit(features_train[numeric])\n",
        "features_train[numeric] = scaler.transform(features_train[numeric])\n",
        "# < transform validation set >\n",
        "\n",
        "print(features_train.shape)\n",
        "print(features_valid.shape)\n"
      ],
      "metadata": {
        "colab": {
          "base_uri": "https://localhost:8080/"
        },
        "id": "aYHlJb426mN9",
        "outputId": "b4d3ad2e-ebcc-4fd8-91bb-fef5d0325fd0"
      },
      "execution_count": 6,
      "outputs": [
        {
          "output_type": "stream",
          "name": "stdout",
          "text": [
            "(414, 3885)\n",
            "(138, 3885)\n"
          ]
        }
      ]
    },
    {
      "cell_type": "code",
      "source": [
        "from sklearn.svm import SVR \n",
        "import numpy as np\n",
        "from sklearn.neighbors import KNeighborsRegressor\n",
        "from sklearn.tree import DecisionTreeRegressor  \n",
        "\n",
        "\n",
        "svm_regressor = SVR(kernel='rbf', C=10)\n",
        "knn_regressor = KNeighborsRegressor()\n",
        "dec_regressor = DecisionTreeRegressor(random_state=27)\n",
        "\n",
        "svm_regressor.fit(features_train, target_train)\n",
        "knn_regressor.fit(features_train, target_train)\n",
        "dec_regressor.fit(features_train, target_train)\n",
        "\n",
        "# Making Predictions  \n",
        "svm_y_pred = svm_regressor.predict(features_valid)\n",
        "knn_y_pred = knn_regressor.predict(features_valid)\n",
        "dec_y_pred = dec_regressor.predict(features_valid)\n",
        "\n",
        "# Finally, evaluate our model \n",
        "from sklearn import metrics \n",
        "print('SVM RMSE:', np.sqrt(metrics.mean_squared_error(target_valid, svm_y_pred)))\n",
        "print('KNN RMSE:', np.sqrt(metrics.mean_squared_error(target_valid, knn_y_pred)))\n",
        "print('Decision Tree RMSE:', np.sqrt(metrics.mean_squared_error(target_valid, dec_y_pred)))"
      ],
      "metadata": {
        "colab": {
          "base_uri": "https://localhost:8080/"
        },
        "id": "NW5CXJR8Lblz",
        "outputId": "0cdeb1d6-d7d1-44db-e088-2796276e0fc8"
      },
      "execution_count": 7,
      "outputs": [
        {
          "output_type": "stream",
          "name": "stdout",
          "text": [
            "SVM RMSE: 1016.4583027412627\n",
            "KNN RMSE: 1106.312127642157\n",
            "Decision Tree RMSE: 1353.4565652111055\n"
          ]
        }
      ]
    },
    {
      "cell_type": "code",
      "source": [
        "\n",
        "from sklearn.svm import SVR \n",
        "import numpy as np\n",
        "from sklearn.neighbors import KNeighborsRegressor\n",
        "from sklearn.tree import DecisionTreeRegressor  \n",
        "# Splitting our dataset  \n",
        "features_train, features_valid, target_train, target_valid = train_test_split(\n",
        "    features, target, test_size=0.25, random_state=12345\n",
        ")\n",
        "\n",
        "# Performing normalisation \n",
        "from sklearn.preprocessing import MinMaxScaler\n",
        "norm = MinMaxScaler().fit(features_train) \n",
        "X_train = norm.transform(features_train) \n",
        "features_valid = norm.transform(features_valid)\n",
        "\n",
        "# Fitting in our models  \n",
        "svm_regressor = SVR(kernel='rbf', C=10)\n",
        "knn_regressor = KNeighborsRegressor()\n",
        "dec_regressor = DecisionTreeRegressor(random_state=27)\n",
        "\n",
        "svm_regressor.fit(features_train, target_train)\n",
        "knn_regressor.fit(features_train, target_train)\n",
        "dec_regressor.fit(features_train, target_train)\n",
        "\n",
        "# Making Predictions  \n",
        "svm_y_pred = svm_regressor.predict(features_valid)\n",
        "knn_y_pred = knn_regressor.predict(features_valid)\n",
        "dec_y_pred = dec_regressor.predict(features_valid)\n",
        "\n",
        "# Finally, evaluating our models \n",
        "print('SVM RMSE:', np.sqrt(metrics.mean_squared_error(target_valid, svm_y_pred)))\n",
        "print('KNN RMSE:', np.sqrt(metrics.mean_squared_error(target_valid, knn_y_pred)))\n",
        "print('Decision Tree RMSE:', np.sqrt(metrics.mean_squared_error(target_valid, dec_y_pred)))"
      ],
      "metadata": {
        "colab": {
          "base_uri": "https://localhost:8080/"
        },
        "id": "PVV5OZUCBSp5",
        "outputId": "3fdc663e-a7ac-427c-aad2-c416fe72960e"
      },
      "execution_count": 8,
      "outputs": [
        {
          "output_type": "stream",
          "name": "stderr",
          "text": [
            "/usr/local/lib/python3.7/dist-packages/sklearn/base.py:451: UserWarning: X does not have valid feature names, but SVR was fitted with feature names\n",
            "  \"X does not have valid feature names, but\"\n"
          ]
        },
        {
          "output_type": "stream",
          "name": "stdout",
          "text": [
            "SVM RMSE: 1030.0606096004235\n",
            "KNN RMSE: 1069.1548032597211\n",
            "Decision Tree RMSE: 1991.007000693768\n"
          ]
        },
        {
          "output_type": "stream",
          "name": "stderr",
          "text": [
            "/usr/local/lib/python3.7/dist-packages/sklearn/base.py:451: UserWarning: X does not have valid feature names, but KNeighborsRegressor was fitted with feature names\n",
            "  \"X does not have valid feature names, but\"\n",
            "/usr/local/lib/python3.7/dist-packages/sklearn/base.py:451: UserWarning: X does not have valid feature names, but DecisionTreeRegressor was fitted with feature names\n",
            "  \"X does not have valid feature names, but\"\n"
          ]
        }
      ]
    },
    {
      "cell_type": "code",
      "source": [
        "# First we check for modeling with standardisation\n",
        "# ---\n",
        "\n",
        "\n",
        "# Splitting our dataset  \n",
        "features_train, features_valid, target_train, target_valid = train_test_split(\n",
        "    features, target, test_size=0.25, random_state=12345\n",
        ")\n",
        "\n",
        "# Performing standardisation\n",
        "from sklearn.preprocessing import StandardScaler\n",
        "sc = StandardScaler() \n",
        "X_train = sc.fit_transform(features_train)\n",
        "X_test = sc.fit_transform(features_valid)\n",
        "\n",
        "# Fitting in our models  \n",
        "svm_regressor = SVR(kernel='rbf', C=10)\n",
        "knn_regressor = KNeighborsRegressor()\n",
        "dec_regressor = DecisionTreeRegressor(random_state=27)\n",
        "\n",
        "svm_regressor.fit(X_train, target_train)\n",
        "knn_regressor.fit(X_train, target_train)\n",
        "dec_regressor.fit(X_train, target_train)\n",
        "\n",
        "# Making Predictions  \n",
        "svm_y_pred = svm_regressor.predict(X_test)\n",
        "knn_y_pred = knn_regressor.predict(X_test)\n",
        "dec_y_pred = dec_regressor.predict(X_test)\n",
        "\n",
        "# Finally, evaluating our models \n",
        "print('SVM RMSE:', np.sqrt(metrics.mean_squared_error(target_valid, svm_y_pred)))\n",
        "print('KNN RMSE:', np.sqrt(metrics.mean_squared_error(target_valid, knn_y_pred)))\n",
        "print('Decision Tree RMSE:', np.sqrt(metrics.mean_squared_error(target_valid, dec_y_pred)))"
      ],
      "metadata": {
        "colab": {
          "base_uri": "https://localhost:8080/"
        },
        "id": "PNvd7zqkNIhZ",
        "outputId": "625558d9-aa6a-42de-8de7-f0234107b36c"
      },
      "execution_count": 9,
      "outputs": [
        {
          "output_type": "stream",
          "name": "stdout",
          "text": [
            "SVM RMSE: 1030.6499729554212\n",
            "KNN RMSE: 1026.2610500737865\n",
            "Decision Tree RMSE: 871.6393807905466\n"
          ]
        }
      ]
    },
    {
      "cell_type": "markdown",
      "source": [
        "## Feature Selection Techniques"
      ],
      "metadata": {
        "id": "g5MV6lxnY7xS"
      }
    },
    {
      "cell_type": "code",
      "source": [
        "# Using already imported \n",
        "# Describing our dataset\n",
        "# ---\n",
        "# \n",
        "data.describe()"
      ],
      "metadata": {
        "colab": {
          "base_uri": "https://localhost:8080/",
          "height": 416
        },
        "id": "1U-7lkPmPRBB",
        "outputId": "79f4f72e-23ab-4ef0-8684-4b46bb3025d0"
      },
      "execution_count": 10,
      "outputs": [
        {
          "output_type": "execute_result",
          "data": {
            "text/plain": [
              "       Platform Type  Placement - Day of Month  Placement - Weekday (Mo = 1)  \\\n",
              "count     552.000000                552.000000                    552.000000   \n",
              "mean        2.724638                 13.990942                      2.817029   \n",
              "std         0.640645                  9.311211                      1.380786   \n",
              "min         1.000000                  1.000000                      1.000000   \n",
              "25%         3.000000                  5.000000                      2.000000   \n",
              "50%         3.000000                 11.000000                      3.000000   \n",
              "75%         3.000000                 22.000000                      4.000000   \n",
              "max         4.000000                 31.000000                      7.000000   \n",
              "\n",
              "       Confirmation - Day of Month  Confirmation - Weekday (Mo = 1)  \\\n",
              "count                   552.000000                       552.000000   \n",
              "mean                     13.990942                         2.817029   \n",
              "std                       9.311211                         1.380786   \n",
              "min                       1.000000                         1.000000   \n",
              "25%                       5.000000                         2.000000   \n",
              "50%                      11.000000                         3.000000   \n",
              "75%                      22.000000                         4.000000   \n",
              "max                      31.000000                         7.000000   \n",
              "\n",
              "       Arrival at Pickup - Day of Month  Arrival at Pickup - Weekday (Mo = 1)  \\\n",
              "count                        552.000000                            552.000000   \n",
              "mean                          13.990942                              2.817029   \n",
              "std                            9.311211                              1.380786   \n",
              "min                            1.000000                              1.000000   \n",
              "25%                            5.000000                              2.000000   \n",
              "50%                           11.000000                              3.000000   \n",
              "75%                           22.000000                              4.000000   \n",
              "max                           31.000000                              7.000000   \n",
              "\n",
              "       Pickup - Day of Month  Pickup - Weekday (Mo = 1)  \\\n",
              "count             552.000000                 552.000000   \n",
              "mean               13.990942                   2.817029   \n",
              "std                 9.311211                   1.380786   \n",
              "min                 1.000000                   1.000000   \n",
              "25%                 5.000000                   2.000000   \n",
              "50%                11.000000                   3.000000   \n",
              "75%                22.000000                   4.000000   \n",
              "max                31.000000                   7.000000   \n",
              "\n",
              "       Arrival at Destination - Day of Month  \\\n",
              "count                             552.000000   \n",
              "mean                               13.990942   \n",
              "std                                 9.311211   \n",
              "min                                 1.000000   \n",
              "25%                                 5.000000   \n",
              "50%                                11.000000   \n",
              "75%                                22.000000   \n",
              "max                                31.000000   \n",
              "\n",
              "       Arrival at Destination - Weekday (Mo = 1)  Distance (KM)  Temperature  \\\n",
              "count                                 552.000000     552.000000   552.000000   \n",
              "mean                                    2.817029       9.802536    18.686232   \n",
              "std                                     1.380786       5.664145     2.431066   \n",
              "min                                     1.000000       1.000000    14.200000   \n",
              "25%                                     2.000000       5.750000    16.875000   \n",
              "50%                                     3.000000       9.000000    18.200000   \n",
              "75%                                     4.000000      13.000000    19.700000   \n",
              "max                                     7.000000      35.000000    24.000000   \n",
              "\n",
              "       Precipitation in millimeters  Pickup Lat  Pickup Long  Destination Lat  \\\n",
              "count                    552.000000  552.000000   552.000000       552.000000   \n",
              "mean                       7.905797   -1.282901    36.812163        -1.284149   \n",
              "std                       17.089971    0.029854     0.037043         0.035022   \n",
              "min                        0.100000   -1.413547    36.674733        -1.395859   \n",
              "25%                        1.075000   -1.304033    36.786611        -1.303682   \n",
              "50%                        2.900000   -1.283658    36.807068        -1.286123   \n",
              "75%                        4.900000   -1.258414    36.830370        -1.261335   \n",
              "max                       99.100000   -1.177202    36.955076        -1.114049   \n",
              "\n",
              "       Destination Long  Time from Pickup to Arrival  \n",
              "count        552.000000                   552.000000  \n",
              "mean          36.809267                  1585.981884  \n",
              "std            0.043530                   950.420039  \n",
              "min           36.653828                     2.000000  \n",
              "25%           36.784567                   919.250000  \n",
              "50%           36.806290                  1408.500000  \n",
              "75%           36.829555                  2045.000000  \n",
              "max           37.012030                  5434.000000  "
            ],
            "text/html": [
              "\n",
              "  <div id=\"df-2728d318-a8e5-465d-96a7-5c925cd186b7\">\n",
              "    <div class=\"colab-df-container\">\n",
              "      <div>\n",
              "<style scoped>\n",
              "    .dataframe tbody tr th:only-of-type {\n",
              "        vertical-align: middle;\n",
              "    }\n",
              "\n",
              "    .dataframe tbody tr th {\n",
              "        vertical-align: top;\n",
              "    }\n",
              "\n",
              "    .dataframe thead th {\n",
              "        text-align: right;\n",
              "    }\n",
              "</style>\n",
              "<table border=\"1\" class=\"dataframe\">\n",
              "  <thead>\n",
              "    <tr style=\"text-align: right;\">\n",
              "      <th></th>\n",
              "      <th>Platform Type</th>\n",
              "      <th>Placement - Day of Month</th>\n",
              "      <th>Placement - Weekday (Mo = 1)</th>\n",
              "      <th>Confirmation - Day of Month</th>\n",
              "      <th>Confirmation - Weekday (Mo = 1)</th>\n",
              "      <th>Arrival at Pickup - Day of Month</th>\n",
              "      <th>Arrival at Pickup - Weekday (Mo = 1)</th>\n",
              "      <th>Pickup - Day of Month</th>\n",
              "      <th>Pickup - Weekday (Mo = 1)</th>\n",
              "      <th>Arrival at Destination - Day of Month</th>\n",
              "      <th>Arrival at Destination - Weekday (Mo = 1)</th>\n",
              "      <th>Distance (KM)</th>\n",
              "      <th>Temperature</th>\n",
              "      <th>Precipitation in millimeters</th>\n",
              "      <th>Pickup Lat</th>\n",
              "      <th>Pickup Long</th>\n",
              "      <th>Destination Lat</th>\n",
              "      <th>Destination Long</th>\n",
              "      <th>Time from Pickup to Arrival</th>\n",
              "    </tr>\n",
              "  </thead>\n",
              "  <tbody>\n",
              "    <tr>\n",
              "      <th>count</th>\n",
              "      <td>552.000000</td>\n",
              "      <td>552.000000</td>\n",
              "      <td>552.000000</td>\n",
              "      <td>552.000000</td>\n",
              "      <td>552.000000</td>\n",
              "      <td>552.000000</td>\n",
              "      <td>552.000000</td>\n",
              "      <td>552.000000</td>\n",
              "      <td>552.000000</td>\n",
              "      <td>552.000000</td>\n",
              "      <td>552.000000</td>\n",
              "      <td>552.000000</td>\n",
              "      <td>552.000000</td>\n",
              "      <td>552.000000</td>\n",
              "      <td>552.000000</td>\n",
              "      <td>552.000000</td>\n",
              "      <td>552.000000</td>\n",
              "      <td>552.000000</td>\n",
              "      <td>552.000000</td>\n",
              "    </tr>\n",
              "    <tr>\n",
              "      <th>mean</th>\n",
              "      <td>2.724638</td>\n",
              "      <td>13.990942</td>\n",
              "      <td>2.817029</td>\n",
              "      <td>13.990942</td>\n",
              "      <td>2.817029</td>\n",
              "      <td>13.990942</td>\n",
              "      <td>2.817029</td>\n",
              "      <td>13.990942</td>\n",
              "      <td>2.817029</td>\n",
              "      <td>13.990942</td>\n",
              "      <td>2.817029</td>\n",
              "      <td>9.802536</td>\n",
              "      <td>18.686232</td>\n",
              "      <td>7.905797</td>\n",
              "      <td>-1.282901</td>\n",
              "      <td>36.812163</td>\n",
              "      <td>-1.284149</td>\n",
              "      <td>36.809267</td>\n",
              "      <td>1585.981884</td>\n",
              "    </tr>\n",
              "    <tr>\n",
              "      <th>std</th>\n",
              "      <td>0.640645</td>\n",
              "      <td>9.311211</td>\n",
              "      <td>1.380786</td>\n",
              "      <td>9.311211</td>\n",
              "      <td>1.380786</td>\n",
              "      <td>9.311211</td>\n",
              "      <td>1.380786</td>\n",
              "      <td>9.311211</td>\n",
              "      <td>1.380786</td>\n",
              "      <td>9.311211</td>\n",
              "      <td>1.380786</td>\n",
              "      <td>5.664145</td>\n",
              "      <td>2.431066</td>\n",
              "      <td>17.089971</td>\n",
              "      <td>0.029854</td>\n",
              "      <td>0.037043</td>\n",
              "      <td>0.035022</td>\n",
              "      <td>0.043530</td>\n",
              "      <td>950.420039</td>\n",
              "    </tr>\n",
              "    <tr>\n",
              "      <th>min</th>\n",
              "      <td>1.000000</td>\n",
              "      <td>1.000000</td>\n",
              "      <td>1.000000</td>\n",
              "      <td>1.000000</td>\n",
              "      <td>1.000000</td>\n",
              "      <td>1.000000</td>\n",
              "      <td>1.000000</td>\n",
              "      <td>1.000000</td>\n",
              "      <td>1.000000</td>\n",
              "      <td>1.000000</td>\n",
              "      <td>1.000000</td>\n",
              "      <td>1.000000</td>\n",
              "      <td>14.200000</td>\n",
              "      <td>0.100000</td>\n",
              "      <td>-1.413547</td>\n",
              "      <td>36.674733</td>\n",
              "      <td>-1.395859</td>\n",
              "      <td>36.653828</td>\n",
              "      <td>2.000000</td>\n",
              "    </tr>\n",
              "    <tr>\n",
              "      <th>25%</th>\n",
              "      <td>3.000000</td>\n",
              "      <td>5.000000</td>\n",
              "      <td>2.000000</td>\n",
              "      <td>5.000000</td>\n",
              "      <td>2.000000</td>\n",
              "      <td>5.000000</td>\n",
              "      <td>2.000000</td>\n",
              "      <td>5.000000</td>\n",
              "      <td>2.000000</td>\n",
              "      <td>5.000000</td>\n",
              "      <td>2.000000</td>\n",
              "      <td>5.750000</td>\n",
              "      <td>16.875000</td>\n",
              "      <td>1.075000</td>\n",
              "      <td>-1.304033</td>\n",
              "      <td>36.786611</td>\n",
              "      <td>-1.303682</td>\n",
              "      <td>36.784567</td>\n",
              "      <td>919.250000</td>\n",
              "    </tr>\n",
              "    <tr>\n",
              "      <th>50%</th>\n",
              "      <td>3.000000</td>\n",
              "      <td>11.000000</td>\n",
              "      <td>3.000000</td>\n",
              "      <td>11.000000</td>\n",
              "      <td>3.000000</td>\n",
              "      <td>11.000000</td>\n",
              "      <td>3.000000</td>\n",
              "      <td>11.000000</td>\n",
              "      <td>3.000000</td>\n",
              "      <td>11.000000</td>\n",
              "      <td>3.000000</td>\n",
              "      <td>9.000000</td>\n",
              "      <td>18.200000</td>\n",
              "      <td>2.900000</td>\n",
              "      <td>-1.283658</td>\n",
              "      <td>36.807068</td>\n",
              "      <td>-1.286123</td>\n",
              "      <td>36.806290</td>\n",
              "      <td>1408.500000</td>\n",
              "    </tr>\n",
              "    <tr>\n",
              "      <th>75%</th>\n",
              "      <td>3.000000</td>\n",
              "      <td>22.000000</td>\n",
              "      <td>4.000000</td>\n",
              "      <td>22.000000</td>\n",
              "      <td>4.000000</td>\n",
              "      <td>22.000000</td>\n",
              "      <td>4.000000</td>\n",
              "      <td>22.000000</td>\n",
              "      <td>4.000000</td>\n",
              "      <td>22.000000</td>\n",
              "      <td>4.000000</td>\n",
              "      <td>13.000000</td>\n",
              "      <td>19.700000</td>\n",
              "      <td>4.900000</td>\n",
              "      <td>-1.258414</td>\n",
              "      <td>36.830370</td>\n",
              "      <td>-1.261335</td>\n",
              "      <td>36.829555</td>\n",
              "      <td>2045.000000</td>\n",
              "    </tr>\n",
              "    <tr>\n",
              "      <th>max</th>\n",
              "      <td>4.000000</td>\n",
              "      <td>31.000000</td>\n",
              "      <td>7.000000</td>\n",
              "      <td>31.000000</td>\n",
              "      <td>7.000000</td>\n",
              "      <td>31.000000</td>\n",
              "      <td>7.000000</td>\n",
              "      <td>31.000000</td>\n",
              "      <td>7.000000</td>\n",
              "      <td>31.000000</td>\n",
              "      <td>7.000000</td>\n",
              "      <td>35.000000</td>\n",
              "      <td>24.000000</td>\n",
              "      <td>99.100000</td>\n",
              "      <td>-1.177202</td>\n",
              "      <td>36.955076</td>\n",
              "      <td>-1.114049</td>\n",
              "      <td>37.012030</td>\n",
              "      <td>5434.000000</td>\n",
              "    </tr>\n",
              "  </tbody>\n",
              "</table>\n",
              "</div>\n",
              "      <button class=\"colab-df-convert\" onclick=\"convertToInteractive('df-2728d318-a8e5-465d-96a7-5c925cd186b7')\"\n",
              "              title=\"Convert this dataframe to an interactive table.\"\n",
              "              style=\"display:none;\">\n",
              "        \n",
              "  <svg xmlns=\"http://www.w3.org/2000/svg\" height=\"24px\"viewBox=\"0 0 24 24\"\n",
              "       width=\"24px\">\n",
              "    <path d=\"M0 0h24v24H0V0z\" fill=\"none\"/>\n",
              "    <path d=\"M18.56 5.44l.94 2.06.94-2.06 2.06-.94-2.06-.94-.94-2.06-.94 2.06-2.06.94zm-11 1L8.5 8.5l.94-2.06 2.06-.94-2.06-.94L8.5 2.5l-.94 2.06-2.06.94zm10 10l.94 2.06.94-2.06 2.06-.94-2.06-.94-.94-2.06-.94 2.06-2.06.94z\"/><path d=\"M17.41 7.96l-1.37-1.37c-.4-.4-.92-.59-1.43-.59-.52 0-1.04.2-1.43.59L10.3 9.45l-7.72 7.72c-.78.78-.78 2.05 0 2.83L4 21.41c.39.39.9.59 1.41.59.51 0 1.02-.2 1.41-.59l7.78-7.78 2.81-2.81c.8-.78.8-2.07 0-2.86zM5.41 20L4 18.59l7.72-7.72 1.47 1.35L5.41 20z\"/>\n",
              "  </svg>\n",
              "      </button>\n",
              "      \n",
              "  <style>\n",
              "    .colab-df-container {\n",
              "      display:flex;\n",
              "      flex-wrap:wrap;\n",
              "      gap: 12px;\n",
              "    }\n",
              "\n",
              "    .colab-df-convert {\n",
              "      background-color: #E8F0FE;\n",
              "      border: none;\n",
              "      border-radius: 50%;\n",
              "      cursor: pointer;\n",
              "      display: none;\n",
              "      fill: #1967D2;\n",
              "      height: 32px;\n",
              "      padding: 0 0 0 0;\n",
              "      width: 32px;\n",
              "    }\n",
              "\n",
              "    .colab-df-convert:hover {\n",
              "      background-color: #E2EBFA;\n",
              "      box-shadow: 0px 1px 2px rgba(60, 64, 67, 0.3), 0px 1px 3px 1px rgba(60, 64, 67, 0.15);\n",
              "      fill: #174EA6;\n",
              "    }\n",
              "\n",
              "    [theme=dark] .colab-df-convert {\n",
              "      background-color: #3B4455;\n",
              "      fill: #D2E3FC;\n",
              "    }\n",
              "\n",
              "    [theme=dark] .colab-df-convert:hover {\n",
              "      background-color: #434B5C;\n",
              "      box-shadow: 0px 1px 3px 1px rgba(0, 0, 0, 0.15);\n",
              "      filter: drop-shadow(0px 1px 2px rgba(0, 0, 0, 0.3));\n",
              "      fill: #FFFFFF;\n",
              "    }\n",
              "  </style>\n",
              "\n",
              "      <script>\n",
              "        const buttonEl =\n",
              "          document.querySelector('#df-2728d318-a8e5-465d-96a7-5c925cd186b7 button.colab-df-convert');\n",
              "        buttonEl.style.display =\n",
              "          google.colab.kernel.accessAllowed ? 'block' : 'none';\n",
              "\n",
              "        async function convertToInteractive(key) {\n",
              "          const element = document.querySelector('#df-2728d318-a8e5-465d-96a7-5c925cd186b7');\n",
              "          const dataTable =\n",
              "            await google.colab.kernel.invokeFunction('convertToInteractive',\n",
              "                                                     [key], {});\n",
              "          if (!dataTable) return;\n",
              "\n",
              "          const docLinkHtml = 'Like what you see? Visit the ' +\n",
              "            '<a target=\"_blank\" href=https://colab.research.google.com/notebooks/data_table.ipynb>data table notebook</a>'\n",
              "            + ' to learn more about interactive tables.';\n",
              "          element.innerHTML = '';\n",
              "          dataTable['output_type'] = 'display_data';\n",
              "          await google.colab.output.renderOutput(dataTable, element);\n",
              "          const docLink = document.createElement('div');\n",
              "          docLink.innerHTML = docLinkHtml;\n",
              "          element.appendChild(docLink);\n",
              "        }\n",
              "      </script>\n",
              "    </div>\n",
              "  </div>\n",
              "  "
            ]
          },
          "metadata": {},
          "execution_count": 10
        }
      ]
    },
    {
      "cell_type": "code",
      "source": [
        "# I select and perform modeling with both standardisation and normalisation.\n",
        "# I will use this as as our base for our solution, then perform feature engineering \n",
        "# by filter methods.\n",
        "# ---\n",
        "\n",
        "# I select our features\n",
        "from sklearn.svm import SVR \n",
        "import numpy as np\n",
        "from sklearn.neighbors import KNeighborsRegressor\n",
        "from sklearn.tree import DecisionTreeRegressor  \n",
        "# Splitting our dataset  \n",
        "features_train, features_valid, target_train, target_valid = train_test_split(\n",
        "    features, target, test_size=0.25, random_state=12345\n",
        ")\n",
        "\n",
        "# Performing normalisation \n",
        "norm = MinMaxScaler().fit(features_train) \n",
        "features_train = norm.transform(features_train) \n",
        "features_valid = norm.transform(features_valid)\n",
        "\n",
        "# Fitting in our models   \n",
        "svm_regressor = SVR(kernel='rbf', C=10)\n",
        "knn_regressor = KNeighborsRegressor()\n",
        "dec_regressor = DecisionTreeRegressor(random_state=27)\n",
        "\n",
        "svm_regressor.fit(features_train, target_train)\n",
        "knn_regressor.fit(features_train, target_train)\n",
        "dec_regressor.fit(features_train, target_train)\n",
        "\n",
        "# Making Predictions  \n",
        "svm_y_pred = svm_regressor.predict(features_valid)\n",
        "knn_y_pred = knn_regressor.predict(features_valid)\n",
        "dec_y_pred = dec_regressor.predict(features_valid)\n",
        "\n",
        "# Finally, evaluating our models  \n",
        "print('SVM RMSE:', np.sqrt(metrics.mean_squared_error(target_valid, svm_y_pred)))\n",
        "print('KNN RMSE:', np.sqrt(metrics.mean_squared_error(target_valid, knn_y_pred)))\n",
        "print('Decision Tree RMSE:', np.sqrt(metrics.mean_squared_error(target_valid, dec_y_pred)))\n"
      ],
      "metadata": {
        "colab": {
          "base_uri": "https://localhost:8080/"
        },
        "id": "O9R4TQqCPe2y",
        "outputId": "d3ee96e8-9d1a-4fb8-a320-0cc40d69ee90"
      },
      "execution_count": 11,
      "outputs": [
        {
          "output_type": "stream",
          "name": "stdout",
          "text": [
            "SVM RMSE: 1027.8090645284512\n",
            "KNN RMSE: 999.4119201245082\n",
            "Decision Tree RMSE: 862.4966750618541\n"
          ]
        }
      ]
    },
    {
      "cell_type": "code",
      "source": [
        "# Then appply filter methods by plotting a correlation matrix\n",
        "# ---\n",
        "import matplotlib.pyplot as plt\n",
        "df_corr = data.corr()\n",
        "plt.figure(figsize=(5,4))\n",
        "\n",
        "# We then plot our heatmap visualistion\n",
        "# \n",
        "import seaborn as sns\n",
        "sns.heatmap(df_corr, annot=True, linewidth=0.5, cmap='coolwarm');"
      ],
      "metadata": {
        "colab": {
          "base_uri": "https://localhost:8080/",
          "height": 468
        },
        "id": "vLcBTAuNQvs6",
        "outputId": "fc9b43ec-29c3-4b3c-8f55-b00039a5ad21"
      },
      "execution_count": 12,
      "outputs": [
        {
          "output_type": "display_data",
          "data": {
            "text/plain": [
              "<Figure size 360x288 with 2 Axes>"
            ],
            "image/png": "[encoded data removed]"
          },
          "metadata": {
            "needs_background": "light"
          }
        }
      ]
    },
    {
      "cell_type": "code",
      "source": [
        "# Then perform our modeling, comparing the resulting accuracy to the previous base solution.\n",
        "# ---\n",
        "\n",
        "\n",
        "# Splitting our dataset  \n",
        "features_train, features_valid, target_train, target_valid = train_test_split(\n",
        "    features, target, test_size=0.25, random_state=12345\n",
        ")\n",
        "\n",
        "# Performing normalisation \n",
        "norm = MinMaxScaler().fit(features_train) \n",
        "X_train = norm.transform(features_train) \n",
        "X_test = norm.transform(features_valid)\n",
        "\n",
        "# Fitting in our models   \n",
        "svm_regressor = SVR(kernel='rbf', C=10)\n",
        "knn_regressor = KNeighborsRegressor()\n",
        "dec_regressor = DecisionTreeRegressor(random_state=27)\n",
        "\n",
        "svm_regressor.fit(X_train, target_train)\n",
        "knn_regressor.fit(X_train, target_train)\n",
        "dec_regressor.fit(X_train, target_train)\n",
        "\n",
        "# Making Predictions  \n",
        "svm_y_pred = svm_regressor.predict(X_test)\n",
        "knn_y_pred = knn_regressor.predict(X_test)\n",
        "dec_y_pred = dec_regressor.predict(X_test)\n",
        "\n",
        "# Finally, evaluate our model \n",
        "print('SVM RMSE:', np.sqrt(metrics.mean_squared_error(target_valid, svm_y_pred)))\n",
        "print('KNN RMSE:', np.sqrt(metrics.mean_squared_error(target_valid, knn_y_pred)))\n",
        "print('Decision Tree RMSE:', np.sqrt(metrics.mean_squared_error(target_valid, dec_y_pred)))"
      ],
      "metadata": {
        "colab": {
          "base_uri": "https://localhost:8080/"
        },
        "id": "t9BVuLRpRFTo",
        "outputId": "5e91afef-8150-4c41-e221-1dbe116c1918"
      },
      "execution_count": 13,
      "outputs": [
        {
          "output_type": "stream",
          "name": "stdout",
          "text": [
            "SVM RMSE: 1027.8090645284512\n",
            "KNN RMSE: 999.4119201245082\n",
            "Decision Tree RMSE: 862.4966750618541\n"
          ]
        }
      ]
    },
    {
      "cell_type": "markdown",
      "source": [
        "#### Wrapper Method: <font color=\"blue\"> Step Forward Feature Selection</font>"
      ],
      "metadata": {
        "id": "gV5FcvFvRsIK"
      }
    },
    {
      "cell_type": "code",
      "source": [
        "# importing six and sys\n",
        "import six\n",
        "import sys\n",
        "sys.modules['sklearn.externals.six'] = six\n",
        "\n",
        "# installing mlrose\n",
        "!pip install mlrose\n",
        "import mlrose\n",
        "\n",
        "# importing joblib\n",
        "import joblib\n",
        "sys.modules['sklearn.externals.joblib'] = joblib"
      ],
      "metadata": {
        "id": "gOBL4QyjRxLq",
        "colab": {
          "base_uri": "https://localhost:8080/"
        },
        "outputId": "d82bdf9b-8275-42b9-bc60-2414fb9d8e0c"
      },
      "execution_count": 14,
      "outputs": [
        {
          "output_type": "stream",
          "name": "stdout",
          "text": [
            "Looking in indexes: https://pypi.org/simple, https://us-python.pkg.dev/colab-wheels/public/simple/\n",
            "Collecting mlrose\n",
            "  Downloading mlrose-1.3.0-py3-none-any.whl (27 kB)\n",
            "Requirement already satisfied: numpy in /usr/local/lib/python3.7/dist-packages (from mlrose) (1.21.6)\n",
            "Requirement already satisfied: scipy in /usr/local/lib/python3.7/dist-packages (from mlrose) (1.7.3)\n",
            "Collecting sklearn\n",
            "  Downloading sklearn-0.0.post1.tar.gz (3.6 kB)\n",
            "Building wheels for collected packages: sklearn\n",
            "  Building wheel for sklearn (setup.py) ... \u001b[?25l\u001b[?25hdone\n",
            "  Created wheel for sklearn: filename=sklearn-0.0.post1-py3-none-any.whl size=2344 sha256=45e5e3fb51a50abb9d6d6e2410e1d98419f514de9f925f33451bfebeb698f9ea\n",
            "  Stored in directory: /root/.cache/pip/wheels/42/56/cc/4a8bf86613aafd5b7f1b310477667c1fca5c51c3ae4124a003\n",
            "Successfully built sklearn\n",
            "Installing collected packages: sklearn, mlrose\n",
            "Successfully installed mlrose-1.3.0 sklearn-0.0.post1\n"
          ]
        }
      ]
    },
    {
      "cell_type": "code",
      "source": [
        "# Performing normalisation \n",
        "norm = MinMaxScaler().fit(features_train) \n",
        "X_train = norm.transform(features_train) \n",
        "X_test = norm.transform(features_valid)\n",
        "# Selecting the ML algorithm to use   \n",
        "dec_regressor = DecisionTreeRegressor(random_state=27)\n",
        "\n",
        "# We pass the svm_regressor the estimator to the SequentialFeatureSelector function. \n",
        "# The k_features specifies the number of features to select. \n",
        "# We can set any number of features here. The forward parameter, if set to True, \n",
        "# performs step forward feature selection. The verbose parameter is used for logging \n",
        "# the progress of the feature selector, the scoring parameter defines the performance \n",
        "# evaluation criteria and finally, cv refers to cross-validation folds.\n",
        "# ---\n",
        "# Hint: Hover cursor on SequentialFeatureSelector to get a list of more parameter values.\n",
        "# ---\n",
        "#\n",
        "from mlxtend.feature_selection import SequentialFeatureSelector\n",
        "feature_selector = SequentialFeatureSelector(dec_regressor,\n",
        "           k_features=4,\n",
        "           forward=True,\n",
        "           verbose=2,\n",
        "           scoring='r2',\n",
        "           cv=4)\n",
        " \n",
        "# Perform step forward feature selection\n",
        "feature_selector = feature_selector.fit(features_train, features_valid) "
      ],
      "metadata": {
        "id": "onnm2X8VR_ZZ"
      },
      "execution_count": 17,
      "outputs": []
    },
    {
      "cell_type": "code",
      "source": [
        "# Which are the selected features?\n",
        "# The columns at these indexes are those which were selected\n",
        "# ---\n",
        "#\n",
        "feat_cols = list(feature_selector.k_feature_idx_)\n",
        "print(feat_cols)"
      ],
      "metadata": {
        "id": "JXlgUvvKUamF"
      },
      "execution_count": null,
      "outputs": []
    },
    {
      "cell_type": "code",
      "source": [
        "# We can now use those features to build a full model\n",
        "# ---\n",
        "# \n",
        "\n",
        "# Without step backward feature selection (sbfs)\n",
        "from sklearn.model_selection import train_test_split\n",
        "\n",
        "data.dropna(inplace=True)\n",
        "data_ohe=pd.get_dummies(data)\n",
        "target = data_ohe['Time from Pickup to Arrival']\n",
        "features = data_ohe.drop(['Time from Pickup to Arrival'], axis=1)\n",
        "\n",
        "features_train, features_valid, target_train, target_valid = train_test_split(\n",
        "    features, target, test_size=0.25, random_state=12345\n",
        ")\n",
        "dec_regressor = DecisionTreeRegressor(random_state=27)\n",
        "dec_regressor.fit(X_train, target_train)\n",
        "\n",
        "# With step backward feature selection\n",
        "dec_regressor2 = DecisionTreeRegressor(random_state=27)\n",
        "dec_regressor2.fit(X_train[:, feat_cols], target_train)\n",
        "\n",
        "# Making Predictions and determining the accuracies  \n",
        "y_test_pred = dec_regressor.predict(X_test)\n",
        "print('Decision Tree RMSE Without sbfs:', np.sqrt(metrics.mean_squared_error(target_valid, y_test_pred)))\n",
        "\n",
        "y_test_pred2 = dec_regressor2.predict(X_test[:, feat_cols])\n",
        "print('Decision Tree RMSE with sbfs:', np.sqrt(metrics.mean_squared_error(target_valid, y_test_pred2)))"
      ],
      "metadata": {
        "id": "szV6ZqkDZw61",
        "colab": {
          "base_uri": "https://localhost:8080/",
          "height": 235
        },
        "outputId": "7f84505a-bae6-4338-d5e9-82c7b671d142"
      },
      "execution_count": 19,
      "outputs": [
        {
          "output_type": "error",
          "ename": "NameError",
          "evalue": "ignored",
          "traceback": [
            "\u001b[0;31m---------------------------------------------------------------------------\u001b[0m",
            "\u001b[0;31mNameError\u001b[0m                                 Traceback (most recent call last)",
            "\u001b[0;32m<ipython-input-19-521cc0ff8a4c>\u001b[0m in \u001b[0;36m<module>\u001b[0;34m\u001b[0m\n\u001b[1;32m     19\u001b[0m \u001b[0;31m# With step backward feature selection\u001b[0m\u001b[0;34m\u001b[0m\u001b[0;34m\u001b[0m\u001b[0;34m\u001b[0m\u001b[0m\n\u001b[1;32m     20\u001b[0m \u001b[0mdec_regressor2\u001b[0m \u001b[0;34m=\u001b[0m \u001b[0mDecisionTreeRegressor\u001b[0m\u001b[0;34m(\u001b[0m\u001b[0mrandom_state\u001b[0m\u001b[0;34m=\u001b[0m\u001b[0;36m27\u001b[0m\u001b[0;34m)\u001b[0m\u001b[0;34m\u001b[0m\u001b[0;34m\u001b[0m\u001b[0m\n\u001b[0;32m---> 21\u001b[0;31m \u001b[0mdec_regressor2\u001b[0m\u001b[0;34m.\u001b[0m\u001b[0mfit\u001b[0m\u001b[0;34m(\u001b[0m\u001b[0mX_train\u001b[0m\u001b[0;34m[\u001b[0m\u001b[0;34m:\u001b[0m\u001b[0;34m,\u001b[0m \u001b[0mfeat_cols\u001b[0m\u001b[0;34m]\u001b[0m\u001b[0;34m,\u001b[0m \u001b[0mtarget_train\u001b[0m\u001b[0;34m)\u001b[0m\u001b[0;34m\u001b[0m\u001b[0;34m\u001b[0m\u001b[0m\n\u001b[0m\u001b[1;32m     22\u001b[0m \u001b[0;34m\u001b[0m\u001b[0m\n\u001b[1;32m     23\u001b[0m \u001b[0;31m# Making Predictions and determining the accuracies\u001b[0m\u001b[0;34m\u001b[0m\u001b[0;34m\u001b[0m\u001b[0;34m\u001b[0m\u001b[0m\n",
            "\u001b[0;31mNameError\u001b[0m: name 'feat_cols' is not defined"
          ]
        }
      ]
    },
    {
      "cell_type": "code",
      "source": [],
      "metadata": {
        "id": "6tUVEv_KcofV"
      },
      "execution_count": null,
      "outputs": []
    },
    {
      "cell_type": "markdown",
      "source": [
        "                     #2.Wrapper Method: Recursive Feature Elimination"
      ],
      "metadata": {
        "id": "-Zw91KoTcvYJ"
      }
    },
    {
      "cell_type": "code",
      "source": [
        "# Performing normalisation \n",
        "norm = MinMaxScaler().fit(X_train) \n",
        "X_train = norm.transform(X_train) \n",
        "X_test = norm.transform(X_test)\n",
        "\n",
        "# Fitting in our models   \n",
        "\n",
        "svm_regressor = SVR(kernel=\"linear\")   \n",
        "dec_regressor = DecisionTreeRegressor(random_state=27)\n",
        "\n",
        "# We want to select the best 2 features for our model. \n",
        "# NB: n_features_to_select will include the response variable\n",
        "# ---\n",
        "#  \n",
        "from sklearn.feature_selection import RFE\n",
        "svm_regressor = RFE(svm_regressor, n_features_to_select = 3, step=1)\n",
        "dec_regressor = RFE(dec_regressor, n_features_to_select = 3, step=1)\n",
        "\n",
        "svm_regressor.fit(X_train, target_train) \n",
        "dec_regressor.fit(X_train, target_train)\n",
        "\n",
        "# Making Predictions  \n",
        "svm_y_pred = svm_regressor.predict(X_test) \n",
        "dec_y_pred = dec_regressor.predict(X_test)\n",
        "\n",
        "# Finally, evaluate our model  \n",
        "print('SVM RMSE:', np.sqrt(metrics.mean_squared_error(target_valid, svm_y_pred))) \n",
        "print('Decision Tree RMSE:', np.sqrt(metrics.mean_squared_error(target_valid, dec_y_pred)))\n",
        " \n",
        "# Displaying our best features\n",
        "print('SVM Selected features: %s' % list(X.columns[svm_regressor.support_]))\n",
        "print('Decision Tree Selected features: %s' % list(X.columns[dec_regressor.support_]))"
      ],
      "metadata": {
        "id": "ms-RJ6Y9c2Y1",
        "colab": {
          "base_uri": "https://localhost:8080/",
          "height": 415
        },
        "outputId": "1c2ffd0d-1837-4e88-fcd0-c69aca4735e9"
      },
      "execution_count": 20,
      "outputs": [
        {
          "output_type": "error",
          "ename": "KeyboardInterrupt",
          "evalue": "ignored",
          "traceback": [
            "\u001b[0;31m---------------------------------------------------------------------------\u001b[0m",
            "\u001b[0;31mKeyboardInterrupt\u001b[0m                         Traceback (most recent call last)",
            "\u001b[0;32m<ipython-input-20-6f96de00e095>\u001b[0m in \u001b[0;36m<module>\u001b[0;34m\u001b[0m\n\u001b[1;32m     17\u001b[0m \u001b[0mdec_regressor\u001b[0m \u001b[0;34m=\u001b[0m \u001b[0mRFE\u001b[0m\u001b[0;34m(\u001b[0m\u001b[0mdec_regressor\u001b[0m\u001b[0;34m,\u001b[0m \u001b[0mn_features_to_select\u001b[0m \u001b[0;34m=\u001b[0m \u001b[0;36m3\u001b[0m\u001b[0;34m,\u001b[0m \u001b[0mstep\u001b[0m\u001b[0;34m=\u001b[0m\u001b[0;36m1\u001b[0m\u001b[0;34m)\u001b[0m\u001b[0;34m\u001b[0m\u001b[0;34m\u001b[0m\u001b[0m\n\u001b[1;32m     18\u001b[0m \u001b[0;34m\u001b[0m\u001b[0m\n\u001b[0;32m---> 19\u001b[0;31m \u001b[0msvm_regressor\u001b[0m\u001b[0;34m.\u001b[0m\u001b[0mfit\u001b[0m\u001b[0;34m(\u001b[0m\u001b[0mX_train\u001b[0m\u001b[0;34m,\u001b[0m \u001b[0mtarget_train\u001b[0m\u001b[0;34m)\u001b[0m\u001b[0;34m\u001b[0m\u001b[0;34m\u001b[0m\u001b[0m\n\u001b[0m\u001b[1;32m     20\u001b[0m \u001b[0mdec_regressor\u001b[0m\u001b[0;34m.\u001b[0m\u001b[0mfit\u001b[0m\u001b[0;34m(\u001b[0m\u001b[0mX_train\u001b[0m\u001b[0;34m,\u001b[0m \u001b[0mtarget_train\u001b[0m\u001b[0;34m)\u001b[0m\u001b[0;34m\u001b[0m\u001b[0;34m\u001b[0m\u001b[0m\n\u001b[1;32m     21\u001b[0m \u001b[0;34m\u001b[0m\u001b[0m\n",
            "\u001b[0;32m/usr/local/lib/python3.7/dist-packages/sklearn/feature_selection/_rfe.py\u001b[0m in \u001b[0;36mfit\u001b[0;34m(self, X, y, **fit_params)\u001b[0m\n\u001b[1;32m    220\u001b[0m             \u001b[0mFitted\u001b[0m \u001b[0mestimator\u001b[0m\u001b[0;34m.\u001b[0m\u001b[0;34m\u001b[0m\u001b[0;34m\u001b[0m\u001b[0m\n\u001b[1;32m    221\u001b[0m         \"\"\"\n\u001b[0;32m--> 222\u001b[0;31m         \u001b[0;32mreturn\u001b[0m \u001b[0mself\u001b[0m\u001b[0;34m.\u001b[0m\u001b[0m_fit\u001b[0m\u001b[0;34m(\u001b[0m\u001b[0mX\u001b[0m\u001b[0;34m,\u001b[0m \u001b[0my\u001b[0m\u001b[0;34m,\u001b[0m \u001b[0;34m**\u001b[0m\u001b[0mfit_params\u001b[0m\u001b[0;34m)\u001b[0m\u001b[0;34m\u001b[0m\u001b[0;34m\u001b[0m\u001b[0m\n\u001b[0m\u001b[1;32m    223\u001b[0m \u001b[0;34m\u001b[0m\u001b[0m\n\u001b[1;32m    224\u001b[0m     \u001b[0;32mdef\u001b[0m \u001b[0m_fit\u001b[0m\u001b[0;34m(\u001b[0m\u001b[0mself\u001b[0m\u001b[0;34m,\u001b[0m \u001b[0mX\u001b[0m\u001b[0;34m,\u001b[0m \u001b[0my\u001b[0m\u001b[0;34m,\u001b[0m \u001b[0mstep_score\u001b[0m\u001b[0;34m=\u001b[0m\u001b[0;32mNone\u001b[0m\u001b[0;34m,\u001b[0m \u001b[0;34m**\u001b[0m\u001b[0mfit_params\u001b[0m\u001b[0;34m)\u001b[0m\u001b[0;34m:\u001b[0m\u001b[0;34m\u001b[0m\u001b[0;34m\u001b[0m\u001b[0m\n",
            "\u001b[0;32m/usr/local/lib/python3.7/dist-packages/sklearn/feature_selection/_rfe.py\u001b[0m in \u001b[0;36m_fit\u001b[0;34m(self, X, y, step_score, **fit_params)\u001b[0m\n\u001b[1;32m    281\u001b[0m                 \u001b[0mprint\u001b[0m\u001b[0;34m(\u001b[0m\u001b[0;34m\"Fitting estimator with %d features.\"\u001b[0m \u001b[0;34m%\u001b[0m \u001b[0mnp\u001b[0m\u001b[0;34m.\u001b[0m\u001b[0msum\u001b[0m\u001b[0;34m(\u001b[0m\u001b[0msupport_\u001b[0m\u001b[0;34m)\u001b[0m\u001b[0;34m)\u001b[0m\u001b[0;34m\u001b[0m\u001b[0;34m\u001b[0m\u001b[0m\n\u001b[1;32m    282\u001b[0m \u001b[0;34m\u001b[0m\u001b[0m\n\u001b[0;32m--> 283\u001b[0;31m             \u001b[0mestimator\u001b[0m\u001b[0;34m.\u001b[0m\u001b[0mfit\u001b[0m\u001b[0;34m(\u001b[0m\u001b[0mX\u001b[0m\u001b[0;34m[\u001b[0m\u001b[0;34m:\u001b[0m\u001b[0;34m,\u001b[0m \u001b[0mfeatures\u001b[0m\u001b[0;34m]\u001b[0m\u001b[0;34m,\u001b[0m \u001b[0my\u001b[0m\u001b[0;34m,\u001b[0m \u001b[0;34m**\u001b[0m\u001b[0mfit_params\u001b[0m\u001b[0;34m)\u001b[0m\u001b[0;34m\u001b[0m\u001b[0;34m\u001b[0m\u001b[0m\n\u001b[0m\u001b[1;32m    284\u001b[0m \u001b[0;34m\u001b[0m\u001b[0m\n\u001b[1;32m    285\u001b[0m             \u001b[0;31m# Get importance and rank them\u001b[0m\u001b[0;34m\u001b[0m\u001b[0;34m\u001b[0m\u001b[0;34m\u001b[0m\u001b[0m\n",
            "\u001b[0;32m/usr/local/lib/python3.7/dist-packages/sklearn/svm/_base.py\u001b[0m in \u001b[0;36mfit\u001b[0;34m(self, X, y, sample_weight)\u001b[0m\n\u001b[1;32m    253\u001b[0m \u001b[0;34m\u001b[0m\u001b[0m\n\u001b[1;32m    254\u001b[0m         \u001b[0mseed\u001b[0m \u001b[0;34m=\u001b[0m \u001b[0mrnd\u001b[0m\u001b[0;34m.\u001b[0m\u001b[0mrandint\u001b[0m\u001b[0;34m(\u001b[0m\u001b[0mnp\u001b[0m\u001b[0;34m.\u001b[0m\u001b[0miinfo\u001b[0m\u001b[0;34m(\u001b[0m\u001b[0;34m\"i\"\u001b[0m\u001b[0;34m)\u001b[0m\u001b[0;34m.\u001b[0m\u001b[0mmax\u001b[0m\u001b[0;34m)\u001b[0m\u001b[0;34m\u001b[0m\u001b[0;34m\u001b[0m\u001b[0m\n\u001b[0;32m--> 255\u001b[0;31m         \u001b[0mfit\u001b[0m\u001b[0;34m(\u001b[0m\u001b[0mX\u001b[0m\u001b[0;34m,\u001b[0m \u001b[0my\u001b[0m\u001b[0;34m,\u001b[0m \u001b[0msample_weight\u001b[0m\u001b[0;34m,\u001b[0m \u001b[0msolver_type\u001b[0m\u001b[0;34m,\u001b[0m \u001b[0mkernel\u001b[0m\u001b[0;34m,\u001b[0m \u001b[0mrandom_seed\u001b[0m\u001b[0;34m=\u001b[0m\u001b[0mseed\u001b[0m\u001b[0;34m)\u001b[0m\u001b[0;34m\u001b[0m\u001b[0;34m\u001b[0m\u001b[0m\n\u001b[0m\u001b[1;32m    256\u001b[0m         \u001b[0;31m# see comment on the other call to np.iinfo in this file\u001b[0m\u001b[0;34m\u001b[0m\u001b[0;34m\u001b[0m\u001b[0;34m\u001b[0m\u001b[0m\n\u001b[1;32m    257\u001b[0m \u001b[0;34m\u001b[0m\u001b[0m\n",
            "\u001b[0;32m/usr/local/lib/python3.7/dist-packages/sklearn/svm/_base.py\u001b[0m in \u001b[0;36m_dense_fit\u001b[0;34m(self, X, y, sample_weight, solver_type, kernel, random_seed)\u001b[0m\n\u001b[1;32m    331\u001b[0m             \u001b[0mepsilon\u001b[0m\u001b[0;34m=\u001b[0m\u001b[0mself\u001b[0m\u001b[0;34m.\u001b[0m\u001b[0mepsilon\u001b[0m\u001b[0;34m,\u001b[0m\u001b[0;34m\u001b[0m\u001b[0;34m\u001b[0m\u001b[0m\n\u001b[1;32m    332\u001b[0m             \u001b[0mmax_iter\u001b[0m\u001b[0;34m=\u001b[0m\u001b[0mself\u001b[0m\u001b[0;34m.\u001b[0m\u001b[0mmax_iter\u001b[0m\u001b[0;34m,\u001b[0m\u001b[0;34m\u001b[0m\u001b[0;34m\u001b[0m\u001b[0m\n\u001b[0;32m--> 333\u001b[0;31m             \u001b[0mrandom_seed\u001b[0m\u001b[0;34m=\u001b[0m\u001b[0mrandom_seed\u001b[0m\u001b[0;34m,\u001b[0m\u001b[0;34m\u001b[0m\u001b[0;34m\u001b[0m\u001b[0m\n\u001b[0m\u001b[1;32m    334\u001b[0m         )\n\u001b[1;32m    335\u001b[0m \u001b[0;34m\u001b[0m\u001b[0m\n",
            "\u001b[0;32msklearn/svm/_libsvm.pyx\u001b[0m in \u001b[0;36msklearn.svm._libsvm.fit\u001b[0;34m()\u001b[0m\n",
            "\u001b[0;31mKeyboardInterrupt\u001b[0m: "
          ]
        }
      ]
    },
    {
      "cell_type": "code",
      "source": [],
      "metadata": {
        "id": "bvtv0aHtc92E"
      },
      "execution_count": null,
      "outputs": []
    }
  ]
}